{
 "cells": [
  {
   "cell_type": "code",
   "execution_count": 9,
   "metadata": {},
   "outputs": [
    {
     "name": "stdout",
     "output_type": "stream",
     "text": [
      "Enter the number of terms for Fibonacci sequence: 10\n",
      "0 1 1 2 3 5 8 13 21 34\n"
     ]
    }
   ],
   "source": [
    "#input number of elements you want to show in the sequence\n",
    "n=int(input(\"Enter the number of terms for Fibonacci sequence: \"))\n",
    "\n",
    "#first two elements\n",
    "fseq=[0, 1]\n",
    "\n",
    "if n==1:\n",
    "    print(fseq[0])\n",
    "elif n==2:\n",
    "    print(fseq[0],fseq[1])\n",
    "else:\n",
    "    a = fseq[0]; b = fseq[1];\n",
    "    for i in range(2,n):\n",
    "        fseq.append(a+b)\n",
    "        temp=a+b\n",
    "        a=b\n",
    "        b=temp\n",
    "    print(*fseq)"
   ]
  },
  {
   "cell_type": "code",
   "execution_count": 12,
   "metadata": {},
   "outputs": [
    {
     "name": "stdout",
     "output_type": "stream",
     "text": [
      "Enter no. of elements: 5\n",
      "12\n",
      "-7\n",
      "5\n",
      "64\n",
      "-14\n",
      "All positive numbers: 12 5 64 "
     ]
    }
   ],
   "source": [
    "#Printing all positive numbers in a list\n",
    "\n",
    "#Initialising empty list\n",
    "num_list = [];\n",
    "\n",
    "#Number of elements you want to enter in a list\n",
    "n = int(input(\"Enter no. of elements: \"))\n",
    "\n",
    "#Adding elements one by one\n",
    "for i in range(0, n): \n",
    "    element = int(input())\n",
    "    num_list.append(element)\n",
    "    \n",
    "#Checking & print all positive numbers\n",
    "print(\"All positive numbers: \", end=\"\")\n",
    "for i in num_list:\n",
    "    if i >= 0:\n",
    "        print (i, end=\" \");"
   ]
  }
 ],
 "metadata": {
  "kernelspec": {
   "display_name": "Python 3",
   "language": "python",
   "name": "python3"
  },
  "language_info": {
   "codemirror_mode": {
    "name": "ipython",
    "version": 3
   },
   "file_extension": ".py",
   "mimetype": "text/x-python",
   "name": "python",
   "nbconvert_exporter": "python",
   "pygments_lexer": "ipython3",
   "version": "3.8.3"
  }
 },
 "nbformat": 4,
 "nbformat_minor": 4
}
