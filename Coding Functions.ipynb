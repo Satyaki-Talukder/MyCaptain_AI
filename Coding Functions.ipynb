{
 "cells": [
  {
   "cell_type": "code",
   "execution_count": 1,
   "metadata": {},
   "outputs": [
    {
     "name": "stdout",
     "output_type": "stream",
     "text": [
      "[2, 4, 6, 8, 10]\n",
      "['Satyaki', 20, 1999]\n"
     ]
    }
   ],
   "source": [
    "# Assigning elements to different lists\n",
    "\n",
    "list1 = []\n",
    "\n",
    "for i in range(2,11,2):\n",
    "    list1.append(i);\n",
    "print(list1)\n",
    "\n",
    "list2 = ['Satyaki',20,1999]\n",
    "print(list2)"
   ]
  },
  {
   "cell_type": "code",
   "execution_count": 2,
   "metadata": {},
   "outputs": [
    {
     "name": "stdout",
     "output_type": "stream",
     "text": [
      "India\n",
      "USA\n",
      "Russia\n",
      "Canada\n",
      "Poland\n"
     ]
    }
   ],
   "source": [
    "# Accessing elements from a tuple\n",
    "\n",
    "my_tuple = ('India','USA','Russia','Canada','Poland')\n",
    "\n",
    "for i in my_tuple:\n",
    "    print (i);"
   ]
  },
  {
   "cell_type": "code",
   "execution_count": 8,
   "metadata": {},
   "outputs": [
    {
     "name": "stdout",
     "output_type": "stream",
     "text": [
      "Before deleting:  {'Name': 'Satyaki Talukder', 'Age': 20, 'Game': 'CS:GO', 'Stream': 'CSE', 'College': 'CEMK'}\n",
      "After deleting:  {'Name': 'Satyaki Talukder', 'Age': 20, 'Stream': 'CSE', 'College': 'CEMK'}\n"
     ]
    }
   ],
   "source": [
    "# Deleting different dictionary elements\n",
    "\n",
    "dict = {\n",
    "    \"Name\": \"Satyaki Talukder\",\n",
    "    \"Age\": 20,\n",
    "    \"Game\": \"CS:GO\",\n",
    "    \"Stream\": \"CSE\",\n",
    "    \"College\": \"CEMK\"\n",
    "}\n",
    "\n",
    "print(\"Before deleting: \",dict)\n",
    "dict.pop(\"Game\")\n",
    "print(\"After deleting: \",dict)"
   ]
  },
  {
   "cell_type": "code",
   "execution_count": null,
   "metadata": {},
   "outputs": [],
   "source": []
  }
 ],
 "metadata": {
  "kernelspec": {
   "display_name": "Python 3",
   "language": "python",
   "name": "python3"
  },
  "language_info": {
   "codemirror_mode": {
    "name": "ipython",
    "version": 3
   },
   "file_extension": ".py",
   "mimetype": "text/x-python",
   "name": "python",
   "nbconvert_exporter": "python",
   "pygments_lexer": "ipython3",
   "version": "3.8.3"
  }
 },
 "nbformat": 4,
 "nbformat_minor": 4
}
